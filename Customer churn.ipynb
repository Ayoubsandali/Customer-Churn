{
 "cells": [
  {
   "cell_type": "code",
   "execution_count": 14,
   "id": "innocent-intelligence",
   "metadata": {},
   "outputs": [],
   "source": [
    "import pandas as pd\n",
    "import seaborn as sns\n",
    "from sklearn.model_selection import train_test_split\n",
    "from sklearn import preprocessing\n",
    "from imblearn.over_sampling import SMOTENC\n",
    "from sklearn.feature_selection import VarianceThreshold\n",
    "import matplotlib.pyplot as plt\n",
    "from statsmodels.stats.outliers_influence import variance_inflation_factor\n",
    "from sklearn.feature_selection import SelectKBest, chi2\n",
    "import xgboost\n",
    "import lightgbm as lgb\n",
    "from sklearn.ensemble import RandomForestClassifier\n",
    "from sklearn.model_selection import StratifiedKFold\n",
    "from sklearn.model_selection import GridSearchCV\n",
    "from sklearn.metrics import f1_score"
   ]
  },
  {
   "cell_type": "code",
   "execution_count": 15,
   "id": "searching-perspective",
   "metadata": {},
   "outputs": [
    {
     "data": {
      "text/html": [
       "<div>\n",
       "<style scoped>\n",
       "    .dataframe tbody tr th:only-of-type {\n",
       "        vertical-align: middle;\n",
       "    }\n",
       "\n",
       "    .dataframe tbody tr th {\n",
       "        vertical-align: top;\n",
       "    }\n",
       "\n",
       "    .dataframe thead th {\n",
       "        text-align: right;\n",
       "    }\n",
       "</style>\n",
       "<table border=\"1\" class=\"dataframe\">\n",
       "  <thead>\n",
       "    <tr style=\"text-align: right;\">\n",
       "      <th></th>\n",
       "      <th>customerID</th>\n",
       "      <th>gender</th>\n",
       "      <th>SeniorCitizen</th>\n",
       "      <th>Partner</th>\n",
       "      <th>Dependents</th>\n",
       "      <th>tenure</th>\n",
       "      <th>PhoneService</th>\n",
       "      <th>MultipleLines</th>\n",
       "      <th>InternetService</th>\n",
       "      <th>OnlineSecurity</th>\n",
       "      <th>OnlineBackup</th>\n",
       "      <th>DeviceProtection</th>\n",
       "      <th>TechSupport</th>\n",
       "      <th>StreamingTV</th>\n",
       "      <th>StreamingMovies</th>\n",
       "      <th>Contract</th>\n",
       "      <th>PaperlessBilling</th>\n",
       "      <th>PaymentMethod</th>\n",
       "      <th>MonthlyCharges</th>\n",
       "      <th>TotalCharges</th>\n",
       "      <th>Churn</th>\n",
       "    </tr>\n",
       "  </thead>\n",
       "  <tbody>\n",
       "    <tr>\n",
       "      <th>0</th>\n",
       "      <td>7590-VHVEG</td>\n",
       "      <td>Female</td>\n",
       "      <td>0</td>\n",
       "      <td>Yes</td>\n",
       "      <td>No</td>\n",
       "      <td>1</td>\n",
       "      <td>No</td>\n",
       "      <td>No phone service</td>\n",
       "      <td>DSL</td>\n",
       "      <td>No</td>\n",
       "      <td>Yes</td>\n",
       "      <td>No</td>\n",
       "      <td>No</td>\n",
       "      <td>No</td>\n",
       "      <td>No</td>\n",
       "      <td>Month-to-month</td>\n",
       "      <td>Yes</td>\n",
       "      <td>Electronic check</td>\n",
       "      <td>29.85</td>\n",
       "      <td>29.85</td>\n",
       "      <td>No</td>\n",
       "    </tr>\n",
       "    <tr>\n",
       "      <th>1</th>\n",
       "      <td>5575-GNVDE</td>\n",
       "      <td>Male</td>\n",
       "      <td>0</td>\n",
       "      <td>No</td>\n",
       "      <td>No</td>\n",
       "      <td>34</td>\n",
       "      <td>Yes</td>\n",
       "      <td>No</td>\n",
       "      <td>DSL</td>\n",
       "      <td>Yes</td>\n",
       "      <td>No</td>\n",
       "      <td>Yes</td>\n",
       "      <td>No</td>\n",
       "      <td>No</td>\n",
       "      <td>No</td>\n",
       "      <td>One year</td>\n",
       "      <td>No</td>\n",
       "      <td>Mailed check</td>\n",
       "      <td>56.95</td>\n",
       "      <td>1889.5</td>\n",
       "      <td>No</td>\n",
       "    </tr>\n",
       "    <tr>\n",
       "      <th>2</th>\n",
       "      <td>3668-QPYBK</td>\n",
       "      <td>Male</td>\n",
       "      <td>0</td>\n",
       "      <td>No</td>\n",
       "      <td>No</td>\n",
       "      <td>2</td>\n",
       "      <td>Yes</td>\n",
       "      <td>No</td>\n",
       "      <td>DSL</td>\n",
       "      <td>Yes</td>\n",
       "      <td>Yes</td>\n",
       "      <td>No</td>\n",
       "      <td>No</td>\n",
       "      <td>No</td>\n",
       "      <td>No</td>\n",
       "      <td>Month-to-month</td>\n",
       "      <td>Yes</td>\n",
       "      <td>Mailed check</td>\n",
       "      <td>53.85</td>\n",
       "      <td>108.15</td>\n",
       "      <td>Yes</td>\n",
       "    </tr>\n",
       "    <tr>\n",
       "      <th>3</th>\n",
       "      <td>7795-CFOCW</td>\n",
       "      <td>Male</td>\n",
       "      <td>0</td>\n",
       "      <td>No</td>\n",
       "      <td>No</td>\n",
       "      <td>45</td>\n",
       "      <td>No</td>\n",
       "      <td>No phone service</td>\n",
       "      <td>DSL</td>\n",
       "      <td>Yes</td>\n",
       "      <td>No</td>\n",
       "      <td>Yes</td>\n",
       "      <td>Yes</td>\n",
       "      <td>No</td>\n",
       "      <td>No</td>\n",
       "      <td>One year</td>\n",
       "      <td>No</td>\n",
       "      <td>Bank transfer (automatic)</td>\n",
       "      <td>42.30</td>\n",
       "      <td>1840.75</td>\n",
       "      <td>No</td>\n",
       "    </tr>\n",
       "    <tr>\n",
       "      <th>4</th>\n",
       "      <td>9237-HQITU</td>\n",
       "      <td>Female</td>\n",
       "      <td>0</td>\n",
       "      <td>No</td>\n",
       "      <td>No</td>\n",
       "      <td>2</td>\n",
       "      <td>Yes</td>\n",
       "      <td>No</td>\n",
       "      <td>Fiber optic</td>\n",
       "      <td>No</td>\n",
       "      <td>No</td>\n",
       "      <td>No</td>\n",
       "      <td>No</td>\n",
       "      <td>No</td>\n",
       "      <td>No</td>\n",
       "      <td>Month-to-month</td>\n",
       "      <td>Yes</td>\n",
       "      <td>Electronic check</td>\n",
       "      <td>70.70</td>\n",
       "      <td>151.65</td>\n",
       "      <td>Yes</td>\n",
       "    </tr>\n",
       "  </tbody>\n",
       "</table>\n",
       "</div>"
      ],
      "text/plain": [
       "   customerID  gender  SeniorCitizen Partner Dependents  tenure PhoneService  \\\n",
       "0  7590-VHVEG  Female              0     Yes         No       1           No   \n",
       "1  5575-GNVDE    Male              0      No         No      34          Yes   \n",
       "2  3668-QPYBK    Male              0      No         No       2          Yes   \n",
       "3  7795-CFOCW    Male              0      No         No      45           No   \n",
       "4  9237-HQITU  Female              0      No         No       2          Yes   \n",
       "\n",
       "      MultipleLines InternetService OnlineSecurity OnlineBackup  \\\n",
       "0  No phone service             DSL             No          Yes   \n",
       "1                No             DSL            Yes           No   \n",
       "2                No             DSL            Yes          Yes   \n",
       "3  No phone service             DSL            Yes           No   \n",
       "4                No     Fiber optic             No           No   \n",
       "\n",
       "  DeviceProtection TechSupport StreamingTV StreamingMovies        Contract  \\\n",
       "0               No          No          No              No  Month-to-month   \n",
       "1              Yes          No          No              No        One year   \n",
       "2               No          No          No              No  Month-to-month   \n",
       "3              Yes         Yes          No              No        One year   \n",
       "4               No          No          No              No  Month-to-month   \n",
       "\n",
       "  PaperlessBilling              PaymentMethod  MonthlyCharges TotalCharges  \\\n",
       "0              Yes           Electronic check           29.85        29.85   \n",
       "1               No               Mailed check           56.95       1889.5   \n",
       "2              Yes               Mailed check           53.85       108.15   \n",
       "3               No  Bank transfer (automatic)           42.30      1840.75   \n",
       "4              Yes           Electronic check           70.70       151.65   \n",
       "\n",
       "  Churn  \n",
       "0    No  \n",
       "1    No  \n",
       "2   Yes  \n",
       "3    No  \n",
       "4   Yes  "
      ]
     },
     "execution_count": 15,
     "metadata": {},
     "output_type": "execute_result"
    }
   ],
   "source": [
    "pd.set_option(\"max_columns\",50)\n",
    "data=pd.read_csv('C:/Users/Azerty/Desktop/Customer churn/data.csv')\n",
    "data.head()"
   ]
  },
  {
   "cell_type": "code",
   "execution_count": 16,
   "id": "standing-third",
   "metadata": {},
   "outputs": [
    {
     "name": "stdout",
     "output_type": "stream",
     "text": [
      "<class 'pandas.core.frame.DataFrame'>\n",
      "RangeIndex: 7043 entries, 0 to 7042\n",
      "Data columns (total 21 columns):\n",
      " #   Column            Non-Null Count  Dtype  \n",
      "---  ------            --------------  -----  \n",
      " 0   customerID        7043 non-null   object \n",
      " 1   gender            7043 non-null   object \n",
      " 2   SeniorCitizen     7043 non-null   int64  \n",
      " 3   Partner           7043 non-null   object \n",
      " 4   Dependents        7043 non-null   object \n",
      " 5   tenure            7043 non-null   int64  \n",
      " 6   PhoneService      7043 non-null   object \n",
      " 7   MultipleLines     7043 non-null   object \n",
      " 8   InternetService   7043 non-null   object \n",
      " 9   OnlineSecurity    7043 non-null   object \n",
      " 10  OnlineBackup      7043 non-null   object \n",
      " 11  DeviceProtection  7043 non-null   object \n",
      " 12  TechSupport       7043 non-null   object \n",
      " 13  StreamingTV       7043 non-null   object \n",
      " 14  StreamingMovies   7043 non-null   object \n",
      " 15  Contract          7043 non-null   object \n",
      " 16  PaperlessBilling  7043 non-null   object \n",
      " 17  PaymentMethod     7043 non-null   object \n",
      " 18  MonthlyCharges    7043 non-null   float64\n",
      " 19  TotalCharges      7043 non-null   object \n",
      " 20  Churn             7043 non-null   object \n",
      "dtypes: float64(1), int64(2), object(18)\n",
      "memory usage: 1.1+ MB\n"
     ]
    }
   ],
   "source": [
    "data.info()"
   ]
  },
  {
   "cell_type": "markdown",
   "id": "failing-luther",
   "metadata": {},
   "source": [
    "# Feature engineering"
   ]
  },
  {
   "cell_type": "markdown",
   "id": "pediatric-robert",
   "metadata": {},
   "source": [
    "## Categorical Data "
   ]
  },
  {
   "cell_type": "code",
   "execution_count": 17,
   "id": "genetic-convergence",
   "metadata": {},
   "outputs": [
    {
     "name": "stdout",
     "output_type": "stream",
     "text": [
      "Column: customerID - Nbr of unique values: 7043 - unique values ['7590-VHVEG' '5575-GNVDE' '3668-QPYBK' ... '4801-JZAZL' '8361-LTMKD'\n",
      " '3186-AJIEK'] \n",
      "Column: gender - Nbr of unique values: 2 - unique values ['Female' 'Male'] \n",
      "Column: Partner - Nbr of unique values: 2 - unique values ['Yes' 'No'] \n",
      "Column: Dependents - Nbr of unique values: 2 - unique values ['No' 'Yes'] \n",
      "Column: PhoneService - Nbr of unique values: 2 - unique values ['No' 'Yes'] \n",
      "Column: MultipleLines - Nbr of unique values: 3 - unique values ['No phone service' 'No' 'Yes'] \n",
      "Column: InternetService - Nbr of unique values: 3 - unique values ['DSL' 'Fiber optic' 'No'] \n",
      "Column: OnlineSecurity - Nbr of unique values: 3 - unique values ['No' 'Yes' 'No internet service'] \n",
      "Column: OnlineBackup - Nbr of unique values: 3 - unique values ['Yes' 'No' 'No internet service'] \n",
      "Column: DeviceProtection - Nbr of unique values: 3 - unique values ['No' 'Yes' 'No internet service'] \n",
      "Column: TechSupport - Nbr of unique values: 3 - unique values ['No' 'Yes' 'No internet service'] \n",
      "Column: StreamingTV - Nbr of unique values: 3 - unique values ['No' 'Yes' 'No internet service'] \n",
      "Column: StreamingMovies - Nbr of unique values: 3 - unique values ['No' 'Yes' 'No internet service'] \n",
      "Column: Contract - Nbr of unique values: 3 - unique values ['Month-to-month' 'One year' 'Two year'] \n",
      "Column: PaperlessBilling - Nbr of unique values: 2 - unique values ['Yes' 'No'] \n",
      "Column: PaymentMethod - Nbr of unique values: 4 - unique values ['Electronic check' 'Mailed check' 'Bank transfer (automatic)'\n",
      " 'Credit card (automatic)'] \n",
      "Column: TotalCharges - Nbr of unique values: 6531 - unique values ['29.85' '1889.5' '108.15' ... '346.45' '306.6' '6844.5'] \n",
      "Column: Churn - Nbr of unique values: 2 - unique values ['No' 'Yes'] \n"
     ]
    }
   ],
   "source": [
    "for column in data.select_dtypes(include='object'):\n",
    "    print(\"Column: {} - Nbr of unique values: {} - unique values {} \".format(column, len(data[column].unique()),data[column].unique()))"
   ]
  },
  {
   "cell_type": "code",
   "execution_count": 18,
   "id": "hawaiian-luxembourg",
   "metadata": {},
   "outputs": [],
   "source": [
    "data.drop(columns=['customerID'],inplace=True)\n",
    "data['TotalCharges']=pd.to_numeric(data['TotalCharges'],downcast='float',errors='coerce')"
   ]
  },
  {
   "cell_type": "code",
   "execution_count": 19,
   "id": "czech-ordinary",
   "metadata": {},
   "outputs": [
    {
     "name": "stdout",
     "output_type": "stream",
     "text": [
      "Nbr of Nan values in TotalCharges column: 20 \n"
     ]
    }
   ],
   "source": [
    "print(\"Nbr of Nan values in TotalCharges column: {} \".format(data[data['TotalCharges'].isna()==True].shape[1]))"
   ]
  },
  {
   "cell_type": "code",
   "execution_count": 20,
   "id": "checked-warrant",
   "metadata": {},
   "outputs": [],
   "source": [
    "data.dropna(subset=['TotalCharges'],inplace=True)"
   ]
  },
  {
   "cell_type": "code",
   "execution_count": 21,
   "id": "exempt-framing",
   "metadata": {},
   "outputs": [
    {
     "data": {
      "text/plain": [
       "((5625, 19), (1407, 19))"
      ]
     },
     "execution_count": 21,
     "metadata": {},
     "output_type": "execute_result"
    }
   ],
   "source": [
    "# train test split\n",
    "X=data[data.columns.difference(['Churn'])]\n",
    "y=data['Churn']\n",
    "X_train, X_test, y_train, y_test = train_test_split(\n",
    "    X,\n",
    "    y,\n",
    "    test_size=0.2,\n",
    "    random_state=0)\n",
    "\n",
    "X_train.shape, X_test.shape"
   ]
  },
  {
   "cell_type": "code",
   "execution_count": 22,
   "id": "optical-jacob",
   "metadata": {},
   "outputs": [],
   "source": [
    "catg = X_train.select_dtypes(include='object').columns\n",
    "l_encoder_X={}\n",
    "for feature in catg:\n",
    "    l_encoder=preprocessing.LabelEncoder()\n",
    "    X_train[feature] = l_encoder.fit_transform(X_train[feature])\n",
    "    l_encoder_X[feature]=l_encoder\n",
    "    \n",
    "l_encoder_y=preprocessing.LabelEncoder()\n",
    "y_train = pd.Series(l_encoder_y.fit_transform(y_train),index=X_train.index)\n"
   ]
  },
  {
   "cell_type": "code",
   "execution_count": 23,
   "id": "sporting-section",
   "metadata": {},
   "outputs": [
    {
     "data": {
      "text/html": [
       "<div>\n",
       "<style scoped>\n",
       "    .dataframe tbody tr th:only-of-type {\n",
       "        vertical-align: middle;\n",
       "    }\n",
       "\n",
       "    .dataframe tbody tr th {\n",
       "        vertical-align: top;\n",
       "    }\n",
       "\n",
       "    .dataframe thead th {\n",
       "        text-align: right;\n",
       "    }\n",
       "</style>\n",
       "<table border=\"1\" class=\"dataframe\">\n",
       "  <thead>\n",
       "    <tr style=\"text-align: right;\">\n",
       "      <th></th>\n",
       "      <th>Contract</th>\n",
       "      <th>Dependents</th>\n",
       "      <th>DeviceProtection</th>\n",
       "      <th>InternetService</th>\n",
       "      <th>MonthlyCharges</th>\n",
       "      <th>MultipleLines</th>\n",
       "      <th>OnlineBackup</th>\n",
       "      <th>OnlineSecurity</th>\n",
       "      <th>PaperlessBilling</th>\n",
       "      <th>Partner</th>\n",
       "      <th>PaymentMethod</th>\n",
       "      <th>PhoneService</th>\n",
       "      <th>SeniorCitizen</th>\n",
       "      <th>StreamingMovies</th>\n",
       "      <th>StreamingTV</th>\n",
       "      <th>TechSupport</th>\n",
       "      <th>TotalCharges</th>\n",
       "      <th>gender</th>\n",
       "      <th>tenure</th>\n",
       "    </tr>\n",
       "  </thead>\n",
       "  <tbody>\n",
       "    <tr>\n",
       "      <th>2964</th>\n",
       "      <td>1</td>\n",
       "      <td>0</td>\n",
       "      <td>0</td>\n",
       "      <td>0</td>\n",
       "      <td>58.35</td>\n",
       "      <td>2</td>\n",
       "      <td>0</td>\n",
       "      <td>2</td>\n",
       "      <td>1</td>\n",
       "      <td>1</td>\n",
       "      <td>2</td>\n",
       "      <td>1</td>\n",
       "      <td>0</td>\n",
       "      <td>0</td>\n",
       "      <td>0</td>\n",
       "      <td>2</td>\n",
       "      <td>1346.900024</td>\n",
       "      <td>1</td>\n",
       "      <td>24</td>\n",
       "    </tr>\n",
       "    <tr>\n",
       "      <th>5113</th>\n",
       "      <td>2</td>\n",
       "      <td>1</td>\n",
       "      <td>2</td>\n",
       "      <td>1</td>\n",
       "      <td>113.65</td>\n",
       "      <td>2</td>\n",
       "      <td>2</td>\n",
       "      <td>2</td>\n",
       "      <td>0</td>\n",
       "      <td>1</td>\n",
       "      <td>1</td>\n",
       "      <td>1</td>\n",
       "      <td>0</td>\n",
       "      <td>2</td>\n",
       "      <td>2</td>\n",
       "      <td>2</td>\n",
       "      <td>8166.799805</td>\n",
       "      <td>0</td>\n",
       "      <td>71</td>\n",
       "    </tr>\n",
       "    <tr>\n",
       "      <th>5363</th>\n",
       "      <td>2</td>\n",
       "      <td>1</td>\n",
       "      <td>1</td>\n",
       "      <td>2</td>\n",
       "      <td>25.35</td>\n",
       "      <td>2</td>\n",
       "      <td>1</td>\n",
       "      <td>1</td>\n",
       "      <td>0</td>\n",
       "      <td>1</td>\n",
       "      <td>3</td>\n",
       "      <td>1</td>\n",
       "      <td>0</td>\n",
       "      <td>1</td>\n",
       "      <td>1</td>\n",
       "      <td>1</td>\n",
       "      <td>1715.150024</td>\n",
       "      <td>1</td>\n",
       "      <td>70</td>\n",
       "    </tr>\n",
       "    <tr>\n",
       "      <th>5074</th>\n",
       "      <td>1</td>\n",
       "      <td>1</td>\n",
       "      <td>1</td>\n",
       "      <td>2</td>\n",
       "      <td>19.45</td>\n",
       "      <td>0</td>\n",
       "      <td>1</td>\n",
       "      <td>1</td>\n",
       "      <td>0</td>\n",
       "      <td>0</td>\n",
       "      <td>1</td>\n",
       "      <td>1</td>\n",
       "      <td>0</td>\n",
       "      <td>1</td>\n",
       "      <td>1</td>\n",
       "      <td>1</td>\n",
       "      <td>921.299988</td>\n",
       "      <td>0</td>\n",
       "      <td>49</td>\n",
       "    </tr>\n",
       "    <tr>\n",
       "      <th>156</th>\n",
       "      <td>0</td>\n",
       "      <td>0</td>\n",
       "      <td>0</td>\n",
       "      <td>1</td>\n",
       "      <td>84.15</td>\n",
       "      <td>2</td>\n",
       "      <td>0</td>\n",
       "      <td>0</td>\n",
       "      <td>1</td>\n",
       "      <td>0</td>\n",
       "      <td>0</td>\n",
       "      <td>1</td>\n",
       "      <td>0</td>\n",
       "      <td>0</td>\n",
       "      <td>2</td>\n",
       "      <td>0</td>\n",
       "      <td>1821.949951</td>\n",
       "      <td>0</td>\n",
       "      <td>22</td>\n",
       "    </tr>\n",
       "  </tbody>\n",
       "</table>\n",
       "</div>"
      ],
      "text/plain": [
       "      Contract  Dependents  DeviceProtection  InternetService  MonthlyCharges  \\\n",
       "2964         1           0                 0                0           58.35   \n",
       "5113         2           1                 2                1          113.65   \n",
       "5363         2           1                 1                2           25.35   \n",
       "5074         1           1                 1                2           19.45   \n",
       "156          0           0                 0                1           84.15   \n",
       "\n",
       "      MultipleLines  OnlineBackup  OnlineSecurity  PaperlessBilling  Partner  \\\n",
       "2964              2             0               2                 1        1   \n",
       "5113              2             2               2                 0        1   \n",
       "5363              2             1               1                 0        1   \n",
       "5074              0             1               1                 0        0   \n",
       "156               2             0               0                 1        0   \n",
       "\n",
       "      PaymentMethod  PhoneService  SeniorCitizen  StreamingMovies  \\\n",
       "2964              2             1              0                0   \n",
       "5113              1             1              0                2   \n",
       "5363              3             1              0                1   \n",
       "5074              1             1              0                1   \n",
       "156               0             1              0                0   \n",
       "\n",
       "      StreamingTV  TechSupport  TotalCharges  gender  tenure  \n",
       "2964            0            2   1346.900024       1      24  \n",
       "5113            2            2   8166.799805       0      71  \n",
       "5363            1            1   1715.150024       1      70  \n",
       "5074            1            1    921.299988       0      49  \n",
       "156             2            0   1821.949951       0      22  "
      ]
     },
     "execution_count": 23,
     "metadata": {},
     "output_type": "execute_result"
    }
   ],
   "source": [
    "X_train.head()"
   ]
  },
  {
   "cell_type": "markdown",
   "id": "annual-document",
   "metadata": {},
   "source": [
    "## Dealing with class imbalance"
   ]
  },
  {
   "cell_type": "code",
   "execution_count": 24,
   "id": "fresh-hepatitis",
   "metadata": {},
   "outputs": [
    {
     "data": {
      "text/plain": [
       "<AxesSubplot:>"
      ]
     },
     "execution_count": 24,
     "metadata": {},
     "output_type": "execute_result"
    },
    {
     "data": {
      "image/png": "[encoded data removed]",
      "text/plain": [
       "<Figure size 432x288 with 1 Axes>"
      ]
     },
     "metadata": {
      "needs_background": "light"
     },
     "output_type": "display_data"
    }
   ],
   "source": [
    "# Churn countplot\n",
    "y_train.value_counts().plot(kind='bar')"
   ]
  },
  {
   "cell_type": "markdown",
   "id": "functional-printing",
   "metadata": {},
   "source": [
    "**Observation :** problem of unbalanced data"
   ]
  },
  {
   "cell_type": "code",
   "execution_count": 25,
   "id": "dutch-classic",
   "metadata": {},
   "outputs": [
    {
     "name": "stdout",
     "output_type": "stream",
     "text": [
      "Number of elements in class 1 : 73% , Number of elements in class 0 : 27%\n"
     ]
    }
   ],
   "source": [
    "print(\"Number of elements in class 1 : {}% , Number of elements in class 0 : {}%\".format(round(y_train[y_train==0].count()*100/y_train.shape[0]),round(y_train[y_train==1].count()*100/y_train.shape[0])))"
   ]
  },
  {
   "cell_type": "code",
   "execution_count": 26,
   "id": "medium-clerk",
   "metadata": {},
   "outputs": [
    {
     "name": "stdout",
     "output_type": "stream",
     "text": [
      "Number of elements in class 1 : 50% , Number of elements in class 0 : 50%\n"
     ]
    }
   ],
   "source": [
    "# create synthetic data using SMOTENC\n",
    "categorical_features=[i for i in range(0,19) if i not in [4,16]]\n",
    "smote_nc = SMOTENC(categorical_features=categorical_features, random_state=0)\n",
    "X_train_res, y_train_res = smote_nc.fit_resample(X_train, y_train)\n",
    "print(\"Number of elements in class 1 : {}% , Number of elements in class 0 : {}%\".format(round(y_train_res[y_train_res==0].count()*100/y_train_res.shape[0]),round(y_train_res[y_train_res==1].count()*100/y_train_res.shape[0])))"
   ]
  },
  {
   "cell_type": "markdown",
   "id": "warming-companion",
   "metadata": {},
   "source": [
    "# Feature Selection"
   ]
  },
  {
   "cell_type": "markdown",
   "id": "measured-change",
   "metadata": {},
   "source": [
    "### Variance threshold"
   ]
  },
  {
   "cell_type": "code",
   "execution_count": 28,
   "id": "indie-dragon",
   "metadata": {},
   "outputs": [
    {
     "data": {
      "text/plain": [
       "array([ True,  True,  True,  True,  True,  True,  True,  True,  True,\n",
       "        True,  True,  True,  True,  True,  True,  True,  True,  True,\n",
       "        True])"
      ]
     },
     "execution_count": 28,
     "metadata": {},
     "output_type": "execute_result"
    }
   ],
   "source": [
    "# variance threshold : check if there is  constant columns by using VarianceThreshold\n",
    "var_thres=VarianceThreshold(threshold=0)\n",
    "var_thres.fit(X_train_res)\n",
    "var_thres.get_support()"
   ]
  },
  {
   "cell_type": "markdown",
   "id": "amateur-exception",
   "metadata": {},
   "source": [
    "### Pairwise correlation"
   ]
  },
  {
   "cell_type": "code",
   "execution_count": 29,
   "id": "corporate-consumption",
   "metadata": {},
   "outputs": [
    {
     "data": {
      "image/png": "[encoded data removed]",
      "text/plain": [
       "<Figure size 864x864 with 2 Axes>"
      ]
     },
     "metadata": {
      "needs_background": "light"
     },
     "output_type": "display_data"
    }
   ],
   "source": [
    "#Using Pearson Correlation\n",
    "plt.figure(figsize=(12,12))\n",
    "cor = X_train_res.corr()\n",
    "sns.heatmap(abs(cor), annot=True, cmap=plt.cm.CMRmap_r)\n",
    "plt.show()"
   ]
  },
  {
   "cell_type": "markdown",
   "id": "rural-seating",
   "metadata": {},
   "source": [
    "I have choosed as correlation tolerance 0.7 value. thus, i will drop either the column TotalCharges or tenure. For that i will discard variable with weaker correlation with the target (Churn)"
   ]
  },
  {
   "cell_type": "code",
   "execution_count": 30,
   "id": "numerous-magazine",
   "metadata": {},
   "outputs": [
    {
     "data": {
      "text/plain": [
       "Contract            0.509550\n",
       "tenure              0.430857\n",
       "OnlineSecurity      0.390436\n",
       "TechSupport         0.381078\n",
       "PaperlessBilling    0.284586\n",
       "Dependents          0.258693\n",
       "OnlineBackup        0.256792\n",
       "TotalCharges        0.244287\n",
       "MonthlyCharges      0.227991\n",
       "DeviceProtection    0.222534\n",
       "Partner             0.213569\n",
       "PaymentMethod       0.199492\n",
       "SeniorCitizen       0.139373\n",
       "MultipleLines       0.048695\n",
       "StreamingTV         0.042306\n",
       "InternetService     0.038542\n",
       "StreamingMovies     0.031382\n",
       "PhoneService        0.021542\n",
       "gender              0.013821\n",
       "dtype: float64"
      ]
     },
     "execution_count": 30,
     "metadata": {},
     "output_type": "execute_result"
    }
   ],
   "source": [
    "abs(X_train_res.corrwith(y_train_res,method=\"pearson\",axis = 0)).sort_values(ascending=False)"
   ]
  },
  {
   "cell_type": "markdown",
   "id": "published-equivalent",
   "metadata": {},
   "source": [
    "TotalCharges has weaker coorelation with target than Tenure"
   ]
  },
  {
   "cell_type": "code",
   "execution_count": 31,
   "id": "expired-memory",
   "metadata": {},
   "outputs": [],
   "source": [
    "X_train_res.drop(columns=['TotalCharges'],inplace=True)"
   ]
  },
  {
   "cell_type": "markdown",
   "id": "offensive-contractor",
   "metadata": {},
   "source": [
    "**Other observations :** \n",
    "\n",
    "MonthlyCharges and TotalCharges are also correlated (moderate correlation ≈ 0.6) which it is makes sense : TotalCharges = Monthly Charges * tenure.\n",
    "\n",
    "There is also a moderate positive relationship between Contract and Tenure\n",
    "\n",
    "The fact there was two variables highly correlated (> 0.8) is a sign indicating that a severe **multicollinearity** may be present. "
   ]
  },
  {
   "cell_type": "markdown",
   "id": "exclusive-syndicate",
   "metadata": {},
   "source": [
    "### Multicollinearity "
   ]
  },
  {
   "cell_type": "code",
   "execution_count": 32,
   "id": "stretch-arrival",
   "metadata": {},
   "outputs": [
    {
     "data": {
      "text/html": [
       "<div>\n",
       "<style scoped>\n",
       "    .dataframe tbody tr th:only-of-type {\n",
       "        vertical-align: middle;\n",
       "    }\n",
       "\n",
       "    .dataframe tbody tr th {\n",
       "        vertical-align: top;\n",
       "    }\n",
       "\n",
       "    .dataframe thead th {\n",
       "        text-align: right;\n",
       "    }\n",
       "</style>\n",
       "<table border=\"1\" class=\"dataframe\">\n",
       "  <thead>\n",
       "    <tr style=\"text-align: right;\">\n",
       "      <th></th>\n",
       "      <th>Features</th>\n",
       "      <th>VIF</th>\n",
       "    </tr>\n",
       "  </thead>\n",
       "  <tbody>\n",
       "    <tr>\n",
       "      <th>4</th>\n",
       "      <td>MonthlyCharges</td>\n",
       "      <td>17.040936</td>\n",
       "    </tr>\n",
       "    <tr>\n",
       "      <th>11</th>\n",
       "      <td>PhoneService</td>\n",
       "      <td>16.338968</td>\n",
       "    </tr>\n",
       "    <tr>\n",
       "      <th>17</th>\n",
       "      <td>tenure</td>\n",
       "      <td>7.010741</td>\n",
       "    </tr>\n",
       "    <tr>\n",
       "      <th>3</th>\n",
       "      <td>InternetService</td>\n",
       "      <td>4.609323</td>\n",
       "    </tr>\n",
       "    <tr>\n",
       "      <th>8</th>\n",
       "      <td>PaperlessBilling</td>\n",
       "      <td>3.633817</td>\n",
       "    </tr>\n",
       "    <tr>\n",
       "      <th>10</th>\n",
       "      <td>PaymentMethod</td>\n",
       "      <td>3.615176</td>\n",
       "    </tr>\n",
       "    <tr>\n",
       "      <th>0</th>\n",
       "      <td>Contract</td>\n",
       "      <td>3.576443</td>\n",
       "    </tr>\n",
       "    <tr>\n",
       "      <th>14</th>\n",
       "      <td>StreamingTV</td>\n",
       "      <td>3.247887</td>\n",
       "    </tr>\n",
       "    <tr>\n",
       "      <th>13</th>\n",
       "      <td>StreamingMovies</td>\n",
       "      <td>3.232414</td>\n",
       "    </tr>\n",
       "    <tr>\n",
       "      <th>5</th>\n",
       "      <td>MultipleLines</td>\n",
       "      <td>2.904518</td>\n",
       "    </tr>\n",
       "    <tr>\n",
       "      <th>9</th>\n",
       "      <td>Partner</td>\n",
       "      <td>2.653895</td>\n",
       "    </tr>\n",
       "    <tr>\n",
       "      <th>2</th>\n",
       "      <td>DeviceProtection</td>\n",
       "      <td>2.359146</td>\n",
       "    </tr>\n",
       "    <tr>\n",
       "      <th>6</th>\n",
       "      <td>OnlineBackup</td>\n",
       "      <td>2.228968</td>\n",
       "    </tr>\n",
       "    <tr>\n",
       "      <th>15</th>\n",
       "      <td>TechSupport</td>\n",
       "      <td>2.139877</td>\n",
       "    </tr>\n",
       "    <tr>\n",
       "      <th>7</th>\n",
       "      <td>OnlineSecurity</td>\n",
       "      <td>2.025274</td>\n",
       "    </tr>\n",
       "    <tr>\n",
       "      <th>16</th>\n",
       "      <td>gender</td>\n",
       "      <td>1.962401</td>\n",
       "    </tr>\n",
       "    <tr>\n",
       "      <th>1</th>\n",
       "      <td>Dependents</td>\n",
       "      <td>1.884475</td>\n",
       "    </tr>\n",
       "    <tr>\n",
       "      <th>12</th>\n",
       "      <td>SeniorCitizen</td>\n",
       "      <td>1.384663</td>\n",
       "    </tr>\n",
       "  </tbody>\n",
       "</table>\n",
       "</div>"
      ],
      "text/plain": [
       "            Features        VIF\n",
       "4     MonthlyCharges  17.040936\n",
       "11      PhoneService  16.338968\n",
       "17            tenure   7.010741\n",
       "3    InternetService   4.609323\n",
       "8   PaperlessBilling   3.633817\n",
       "10     PaymentMethod   3.615176\n",
       "0           Contract   3.576443\n",
       "14       StreamingTV   3.247887\n",
       "13   StreamingMovies   3.232414\n",
       "5      MultipleLines   2.904518\n",
       "9            Partner   2.653895\n",
       "2   DeviceProtection   2.359146\n",
       "6       OnlineBackup   2.228968\n",
       "15       TechSupport   2.139877\n",
       "7     OnlineSecurity   2.025274\n",
       "16            gender   1.962401\n",
       "1         Dependents   1.884475\n",
       "12     SeniorCitizen   1.384663"
      ]
     },
     "execution_count": 32,
     "metadata": {},
     "output_type": "execute_result"
    }
   ],
   "source": [
    "# VIF dataframe\n",
    "vif_data = pd.DataFrame()\n",
    "vif_data[\"Features\"] = X_train_res.columns\n",
    "  \n",
    "# calculating VIF for each feature\n",
    "vif_data[\"VIF\"] = [variance_inflation_factor(X_train_res.values, i)\n",
    "                   for i in range(len(X_train_res.columns))]\n",
    "\n",
    "vif_data.sort_values(ascending=False,by='VIF')"
   ]
  },
  {
   "cell_type": "markdown",
   "id": "distant-outside",
   "metadata": {},
   "source": [
    "Even after deleting TotalCharges, there still a sign of multicollinearity (VIF >10). However, for this case, it better to ignore the issue and live with what we have given the importance of the features involved. "
   ]
  },
  {
   "cell_type": "markdown",
   "id": "north-somewhere",
   "metadata": {},
   "source": [
    "### Statistical Test (For feature Selection)"
   ]
  },
  {
   "cell_type": "markdown",
   "id": "dressed-testimony",
   "metadata": {},
   "source": [
    "**Note:** Given the very small number of quantitative data (Tenure and Monthly Charge), i will apply the feature selection  on only categorical features"
   ]
  },
  {
   "cell_type": "code",
   "execution_count": 33,
   "id": "local-albert",
   "metadata": {},
   "outputs": [
    {
     "data": {
      "text/html": [
       "<div>\n",
       "<style scoped>\n",
       "    .dataframe tbody tr th:only-of-type {\n",
       "        vertical-align: middle;\n",
       "    }\n",
       "\n",
       "    .dataframe tbody tr th {\n",
       "        vertical-align: top;\n",
       "    }\n",
       "\n",
       "    .dataframe thead th {\n",
       "        text-align: right;\n",
       "    }\n",
       "</style>\n",
       "<table border=\"1\" class=\"dataframe\">\n",
       "  <thead>\n",
       "    <tr style=\"text-align: right;\">\n",
       "      <th></th>\n",
       "      <th>p_value</th>\n",
       "      <th>compare_to_alpha(0.05)</th>\n",
       "    </tr>\n",
       "  </thead>\n",
       "  <tbody>\n",
       "    <tr>\n",
       "      <th>Contract</th>\n",
       "      <td>0.000000e+00</td>\n",
       "      <td>True</td>\n",
       "    </tr>\n",
       "    <tr>\n",
       "      <th>Dependents</th>\n",
       "      <td>1.424148e-93</td>\n",
       "      <td>True</td>\n",
       "    </tr>\n",
       "    <tr>\n",
       "      <th>DeviceProtection</th>\n",
       "      <td>2.714167e-90</td>\n",
       "      <td>True</td>\n",
       "    </tr>\n",
       "    <tr>\n",
       "      <th>InternetService</th>\n",
       "      <td>1.141419e-02</td>\n",
       "      <td>True</td>\n",
       "    </tr>\n",
       "    <tr>\n",
       "      <th>MultipleLines</th>\n",
       "      <td>1.842063e-05</td>\n",
       "      <td>True</td>\n",
       "    </tr>\n",
       "    <tr>\n",
       "      <th>OnlineBackup</th>\n",
       "      <td>9.333039e-121</td>\n",
       "      <td>True</td>\n",
       "    </tr>\n",
       "    <tr>\n",
       "      <th>OnlineSecurity</th>\n",
       "      <td>2.340133e-306</td>\n",
       "      <td>True</td>\n",
       "    </tr>\n",
       "    <tr>\n",
       "      <th>PaperlessBilling</th>\n",
       "      <td>1.039193e-49</td>\n",
       "      <td>True</td>\n",
       "    </tr>\n",
       "    <tr>\n",
       "      <th>Partner</th>\n",
       "      <td>2.799719e-49</td>\n",
       "      <td>True</td>\n",
       "    </tr>\n",
       "    <tr>\n",
       "      <th>PaymentMethod</th>\n",
       "      <td>4.268000e-42</td>\n",
       "      <td>True</td>\n",
       "    </tr>\n",
       "    <tr>\n",
       "      <th>PhoneService</th>\n",
       "      <td>5.474079e-01</td>\n",
       "      <td>False</td>\n",
       "    </tr>\n",
       "    <tr>\n",
       "      <th>SeniorCitizen</th>\n",
       "      <td>1.739680e-30</td>\n",
       "      <td>True</td>\n",
       "    </tr>\n",
       "    <tr>\n",
       "      <th>StreamingMovies</th>\n",
       "      <td>8.961354e-03</td>\n",
       "      <td>True</td>\n",
       "    </tr>\n",
       "    <tr>\n",
       "      <th>StreamingTV</th>\n",
       "      <td>3.774790e-04</td>\n",
       "      <td>True</td>\n",
       "    </tr>\n",
       "    <tr>\n",
       "      <th>TechSupport</th>\n",
       "      <td>2.057261e-290</td>\n",
       "      <td>True</td>\n",
       "    </tr>\n",
       "    <tr>\n",
       "      <th>gender</th>\n",
       "      <td>3.798509e-01</td>\n",
       "      <td>False</td>\n",
       "    </tr>\n",
       "  </tbody>\n",
       "</table>\n",
       "</div>"
      ],
      "text/plain": [
       "                        p_value  compare_to_alpha(0.05)\n",
       "Contract           0.000000e+00                    True\n",
       "Dependents         1.424148e-93                    True\n",
       "DeviceProtection   2.714167e-90                    True\n",
       "InternetService    1.141419e-02                    True\n",
       "MultipleLines      1.842063e-05                    True\n",
       "OnlineBackup      9.333039e-121                    True\n",
       "OnlineSecurity    2.340133e-306                    True\n",
       "PaperlessBilling   1.039193e-49                    True\n",
       "Partner            2.799719e-49                    True\n",
       "PaymentMethod      4.268000e-42                    True\n",
       "PhoneService       5.474079e-01                   False\n",
       "SeniorCitizen      1.739680e-30                    True\n",
       "StreamingMovies    8.961354e-03                    True\n",
       "StreamingTV        3.774790e-04                    True\n",
       "TechSupport       2.057261e-290                    True\n",
       "gender             3.798509e-01                   False"
      ]
     },
     "execution_count": 33,
     "metadata": {},
     "output_type": "execute_result"
    }
   ],
   "source": [
    "# chi-test : calculate p value and compare to the significance level (0.05)\n",
    "columns_cat= [feature for feature in X_train_res.columns if feature not in ['tenure','MonthlyCharges']]\n",
    "f_p_values=chi2(X_train_res[columns_cat],y_train_res)\n",
    "p_values=pd.DataFrame(f_p_values[1],index=columns_cat,columns=['p_value'])\n",
    "p_values['compare_to_alpha(0.05)']=p_values.apply(lambda y: True if y['p_value']<0.05 else False,axis=1)\n",
    "p_values"
   ]
  },
  {
   "cell_type": "markdown",
   "id": "musical-captain",
   "metadata": {},
   "source": [
    "**Conclusion :** PhoneService and gender are not a significants features."
   ]
  },
  {
   "cell_type": "code",
   "execution_count": 34,
   "id": "southwest-provincial",
   "metadata": {},
   "outputs": [
    {
     "data": {
      "text/html": [
       "<div>\n",
       "<style scoped>\n",
       "    .dataframe tbody tr th:only-of-type {\n",
       "        vertical-align: middle;\n",
       "    }\n",
       "\n",
       "    .dataframe tbody tr th {\n",
       "        vertical-align: top;\n",
       "    }\n",
       "\n",
       "    .dataframe thead th {\n",
       "        text-align: right;\n",
       "    }\n",
       "</style>\n",
       "<table border=\"1\" class=\"dataframe\">\n",
       "  <thead>\n",
       "    <tr style=\"text-align: right;\">\n",
       "      <th></th>\n",
       "      <th>Contract</th>\n",
       "      <th>Dependents</th>\n",
       "      <th>DeviceProtection</th>\n",
       "      <th>OnlineBackup</th>\n",
       "      <th>OnlineSecurity</th>\n",
       "      <th>PaperlessBilling</th>\n",
       "      <th>Partner</th>\n",
       "      <th>PaymentMethod</th>\n",
       "      <th>SeniorCitizen</th>\n",
       "      <th>TechSupport</th>\n",
       "      <th>tenure</th>\n",
       "      <th>MonthlyCharges</th>\n",
       "    </tr>\n",
       "  </thead>\n",
       "  <tbody>\n",
       "    <tr>\n",
       "      <th>0</th>\n",
       "      <td>1</td>\n",
       "      <td>0</td>\n",
       "      <td>0</td>\n",
       "      <td>0</td>\n",
       "      <td>2</td>\n",
       "      <td>1</td>\n",
       "      <td>1</td>\n",
       "      <td>2</td>\n",
       "      <td>0</td>\n",
       "      <td>2</td>\n",
       "      <td>24</td>\n",
       "      <td>58.350000</td>\n",
       "    </tr>\n",
       "    <tr>\n",
       "      <th>1</th>\n",
       "      <td>2</td>\n",
       "      <td>1</td>\n",
       "      <td>2</td>\n",
       "      <td>2</td>\n",
       "      <td>2</td>\n",
       "      <td>0</td>\n",
       "      <td>1</td>\n",
       "      <td>1</td>\n",
       "      <td>0</td>\n",
       "      <td>2</td>\n",
       "      <td>71</td>\n",
       "      <td>113.650000</td>\n",
       "    </tr>\n",
       "    <tr>\n",
       "      <th>2</th>\n",
       "      <td>2</td>\n",
       "      <td>1</td>\n",
       "      <td>1</td>\n",
       "      <td>1</td>\n",
       "      <td>1</td>\n",
       "      <td>0</td>\n",
       "      <td>1</td>\n",
       "      <td>3</td>\n",
       "      <td>0</td>\n",
       "      <td>1</td>\n",
       "      <td>70</td>\n",
       "      <td>25.350000</td>\n",
       "    </tr>\n",
       "    <tr>\n",
       "      <th>3</th>\n",
       "      <td>1</td>\n",
       "      <td>1</td>\n",
       "      <td>1</td>\n",
       "      <td>1</td>\n",
       "      <td>1</td>\n",
       "      <td>0</td>\n",
       "      <td>0</td>\n",
       "      <td>1</td>\n",
       "      <td>0</td>\n",
       "      <td>1</td>\n",
       "      <td>49</td>\n",
       "      <td>19.450000</td>\n",
       "    </tr>\n",
       "    <tr>\n",
       "      <th>4</th>\n",
       "      <td>0</td>\n",
       "      <td>0</td>\n",
       "      <td>0</td>\n",
       "      <td>0</td>\n",
       "      <td>0</td>\n",
       "      <td>1</td>\n",
       "      <td>0</td>\n",
       "      <td>0</td>\n",
       "      <td>0</td>\n",
       "      <td>0</td>\n",
       "      <td>22</td>\n",
       "      <td>84.150000</td>\n",
       "    </tr>\n",
       "    <tr>\n",
       "      <th>...</th>\n",
       "      <td>...</td>\n",
       "      <td>...</td>\n",
       "      <td>...</td>\n",
       "      <td>...</td>\n",
       "      <td>...</td>\n",
       "      <td>...</td>\n",
       "      <td>...</td>\n",
       "      <td>...</td>\n",
       "      <td>...</td>\n",
       "      <td>...</td>\n",
       "      <td>...</td>\n",
       "      <td>...</td>\n",
       "    </tr>\n",
       "    <tr>\n",
       "      <th>8245</th>\n",
       "      <td>0</td>\n",
       "      <td>0</td>\n",
       "      <td>2</td>\n",
       "      <td>0</td>\n",
       "      <td>0</td>\n",
       "      <td>1</td>\n",
       "      <td>0</td>\n",
       "      <td>2</td>\n",
       "      <td>0</td>\n",
       "      <td>0</td>\n",
       "      <td>4</td>\n",
       "      <td>73.073982</td>\n",
       "    </tr>\n",
       "    <tr>\n",
       "      <th>8246</th>\n",
       "      <td>0</td>\n",
       "      <td>0</td>\n",
       "      <td>0</td>\n",
       "      <td>0</td>\n",
       "      <td>0</td>\n",
       "      <td>1</td>\n",
       "      <td>1</td>\n",
       "      <td>2</td>\n",
       "      <td>0</td>\n",
       "      <td>0</td>\n",
       "      <td>33</td>\n",
       "      <td>84.582119</td>\n",
       "    </tr>\n",
       "    <tr>\n",
       "      <th>8247</th>\n",
       "      <td>0</td>\n",
       "      <td>0</td>\n",
       "      <td>2</td>\n",
       "      <td>0</td>\n",
       "      <td>0</td>\n",
       "      <td>1</td>\n",
       "      <td>0</td>\n",
       "      <td>2</td>\n",
       "      <td>0</td>\n",
       "      <td>0</td>\n",
       "      <td>5</td>\n",
       "      <td>94.773114</td>\n",
       "    </tr>\n",
       "    <tr>\n",
       "      <th>8248</th>\n",
       "      <td>0</td>\n",
       "      <td>0</td>\n",
       "      <td>2</td>\n",
       "      <td>0</td>\n",
       "      <td>0</td>\n",
       "      <td>1</td>\n",
       "      <td>0</td>\n",
       "      <td>2</td>\n",
       "      <td>1</td>\n",
       "      <td>0</td>\n",
       "      <td>8</td>\n",
       "      <td>93.422205</td>\n",
       "    </tr>\n",
       "    <tr>\n",
       "      <th>8249</th>\n",
       "      <td>1</td>\n",
       "      <td>0</td>\n",
       "      <td>0</td>\n",
       "      <td>2</td>\n",
       "      <td>0</td>\n",
       "      <td>1</td>\n",
       "      <td>0</td>\n",
       "      <td>2</td>\n",
       "      <td>0</td>\n",
       "      <td>2</td>\n",
       "      <td>68</td>\n",
       "      <td>103.727497</td>\n",
       "    </tr>\n",
       "  </tbody>\n",
       "</table>\n",
       "<p>8250 rows × 12 columns</p>\n",
       "</div>"
      ],
      "text/plain": [
       "      Contract  Dependents  DeviceProtection  OnlineBackup  OnlineSecurity  \\\n",
       "0            1           0                 0             0               2   \n",
       "1            2           1                 2             2               2   \n",
       "2            2           1                 1             1               1   \n",
       "3            1           1                 1             1               1   \n",
       "4            0           0                 0             0               0   \n",
       "...        ...         ...               ...           ...             ...   \n",
       "8245         0           0                 2             0               0   \n",
       "8246         0           0                 0             0               0   \n",
       "8247         0           0                 2             0               0   \n",
       "8248         0           0                 2             0               0   \n",
       "8249         1           0                 0             2               0   \n",
       "\n",
       "      PaperlessBilling  Partner  PaymentMethod  SeniorCitizen  TechSupport  \\\n",
       "0                    1        1              2              0            2   \n",
       "1                    0        1              1              0            2   \n",
       "2                    0        1              3              0            1   \n",
       "3                    0        0              1              0            1   \n",
       "4                    1        0              0              0            0   \n",
       "...                ...      ...            ...            ...          ...   \n",
       "8245                 1        0              2              0            0   \n",
       "8246                 1        1              2              0            0   \n",
       "8247                 1        0              2              0            0   \n",
       "8248                 1        0              2              1            0   \n",
       "8249                 1        0              2              0            2   \n",
       "\n",
       "      tenure  MonthlyCharges  \n",
       "0         24       58.350000  \n",
       "1         71      113.650000  \n",
       "2         70       25.350000  \n",
       "3         49       19.450000  \n",
       "4         22       84.150000  \n",
       "...      ...             ...  \n",
       "8245       4       73.073982  \n",
       "8246      33       84.582119  \n",
       "8247       5       94.773114  \n",
       "8248       8       93.422205  \n",
       "8249      68      103.727497  \n",
       "\n",
       "[8250 rows x 12 columns]"
      ]
     },
     "execution_count": 34,
     "metadata": {},
     "output_type": "execute_result"
    }
   ],
   "source": [
    "# Select the 10 best categorical features that having the highest score amang all the categorical varaiables\n",
    "selector = SelectKBest(chi2, k=10)\n",
    "X_catg=X_train_res[columns_cat]\n",
    "selector.fit(X_catg,y_train_res)\n",
    "# Get columns to keep from the selector\n",
    "cols = selector.get_support(indices=True)\n",
    "X_train_res=pd.concat([X_catg.iloc[:,cols], X_train_res[['tenure','MonthlyCharges']]], join = 'outer', axis = 1)\n",
    "X_train_res"
   ]
  },
  {
   "cell_type": "markdown",
   "id": "chinese-treasurer",
   "metadata": {},
   "source": [
    "# Model Selection"
   ]
  },
  {
   "cell_type": "code",
   "execution_count": 35,
   "id": "about-tactics",
   "metadata": {},
   "outputs": [],
   "source": [
    "def algorithm_pipeline(X_train_data, y_train_data, \n",
    "                       model, param_grid, cv=StratifiedKFold(5), scoring='f1'):# because there was the problem of class imbalance, i have choosed to use f1-score as metric to evaluate the performance of classifiers\n",
    "    gs = GridSearchCV(\n",
    "        estimator=model,\n",
    "        param_grid=param_grid, \n",
    "        cv=cv, \n",
    "        n_jobs=-1, \n",
    "        scoring=scoring,\n",
    "        verbose=3\n",
    "    )\n",
    "    fitted_model = gs.fit(X_train_data, y_train_data)\n",
    "    \n",
    "    return fitted_model"
   ]
  },
  {
   "cell_type": "markdown",
   "id": "enabling-matter",
   "metadata": {},
   "source": [
    "## Boosting (Ensemble Modeling)"
   ]
  },
  {
   "cell_type": "markdown",
   "id": "smart-paper",
   "metadata": {},
   "source": [
    "### XGBoost"
   ]
  },
  {
   "cell_type": "code",
   "execution_count": 36,
   "id": "sapphire-faith",
   "metadata": {},
   "outputs": [],
   "source": [
    "param_grid1={\n",
    "    'n_estimators' : [1000,1500,2000],\n",
    "    'subsample': [0.7, 0.8, 0.9],\n",
    "    'colsample_bytree': [0.7, 0.8],\n",
    "    'max_depth' : [10,15,20],\n",
    "    'learning_rate': [0.001,0.01]\n",
    "}"
   ]
  },
  {
   "cell_type": "code",
   "execution_count": 37,
   "id": "controlled-september",
   "metadata": {},
   "outputs": [
    {
     "name": "stdout",
     "output_type": "stream",
     "text": [
      "Fitting 5 folds for each of 108 candidates, totalling 540 fits\n"
     ]
    }
   ],
   "source": [
    "model1 = xgboost.XGBClassifier(random_state=0,objective='binary:logistic',booster='gbtree',eval_metric='logloss',use_label_encoder=False)\n",
    "\n",
    "model1= algorithm_pipeline(X_train_res, y_train_res,model1, param_grid1)"
   ]
  },
  {
   "cell_type": "code",
   "execution_count": 38,
   "id": "respiratory-detector",
   "metadata": {},
   "outputs": [
    {
     "data": {
      "text/plain": [
       "0.8312373615066742"
      ]
     },
     "execution_count": 38,
     "metadata": {},
     "output_type": "execute_result"
    }
   ],
   "source": [
    "# best score\n",
    "model1.best_score_"
   ]
  },
  {
   "cell_type": "code",
   "execution_count": 39,
   "id": "thirty-gazette",
   "metadata": {},
   "outputs": [
    {
     "data": {
      "text/plain": [
       "{'colsample_bytree': 0.7,\n",
       " 'learning_rate': 0.001,\n",
       " 'max_depth': 15,\n",
       " 'n_estimators': 2000,\n",
       " 'subsample': 0.9}"
      ]
     },
     "execution_count": 39,
     "metadata": {},
     "output_type": "execute_result"
    }
   ],
   "source": [
    "# best hyperparameters\n",
    "model1.best_params_"
   ]
  },
  {
   "cell_type": "code",
   "execution_count": 40,
   "id": "moved-thompson",
   "metadata": {},
   "outputs": [],
   "source": [
    "# select the best model\n",
    "xgbmodel=model1.best_estimator_"
   ]
  },
  {
   "cell_type": "markdown",
   "id": "educated-dubai",
   "metadata": {},
   "source": [
    "### LightGBM "
   ]
  },
  {
   "cell_type": "markdown",
   "id": "diverse-search",
   "metadata": {},
   "source": [
    "LightGBM is a another gradient boosting framework that uses tree based learning algorithms. It is designed to be more distributed and efficient than Xgboot:\n",
    "\n",
    "* Faster training speed and higher efficiency.\n",
    "\n",
    "* Lower memory usage.\n",
    "\n",
    "* Better accuracy.\n",
    "\n",
    "* Capable of handling large-scale data."
   ]
  },
  {
   "cell_type": "code",
   "execution_count": 41,
   "id": "appointed-intersection",
   "metadata": {},
   "outputs": [
    {
     "name": "stdout",
     "output_type": "stream",
     "text": [
      "Fitting 5 folds for each of 324 candidates, totalling 1620 fits\n",
      "best score:0.8232904800631495\n",
      "best hyperparameters:{'colsample_bytree': 0.7, 'learning_rate': 0.001, 'max_depth': 20, 'min_split_gain': 0.3, 'n_estimators': 1000, 'num_leaves': 150, 'subsample': 0.9, 'subsample_freq': 20}\n"
     ]
    }
   ],
   "source": [
    "model2 = lgb.LGBMClassifier(random_state=0,boosting_type='gbdt',objective='binary')\n",
    "param_grid2 = {\n",
    "    'n_estimators': [1000,1500,2000],\n",
    "    'colsample_bytree': [0.7, 0.8],\n",
    "    'max_depth': [15,20,25],\n",
    "    'num_leaves': [50, 100, 150],\n",
    "    'min_split_gain': [0.3, 0.4],\n",
    "    'subsample': [0.7, 0.8, 0.9],\n",
    "    'subsample_freq': [20],\n",
    "    'learning_rate': [0.001]\n",
    "}\n",
    "\n",
    "model2 = algorithm_pipeline(X_train_res, y_train_res, model2, param_grid2)\n",
    "print('best score:{}'.format(model2.best_score_))\n",
    "print('best hyperparameters:{}'.format(model2.best_params_))"
   ]
  },
  {
   "cell_type": "code",
   "execution_count": 42,
   "id": "harmful-chester",
   "metadata": {},
   "outputs": [],
   "source": [
    "# select the best model\n",
    "lgbmodel=model2.best_estimator_"
   ]
  },
  {
   "cell_type": "markdown",
   "id": "higher-letter",
   "metadata": {},
   "source": [
    "## Bagging (Ensemble Modeling)"
   ]
  },
  {
   "cell_type": "markdown",
   "id": "marine-barbados",
   "metadata": {},
   "source": [
    "### Random Forest"
   ]
  },
  {
   "cell_type": "code",
   "execution_count": 44,
   "id": "contrary-windows",
   "metadata": {},
   "outputs": [
    {
     "name": "stdout",
     "output_type": "stream",
     "text": [
      "Fitting 5 folds for each of 36 candidates, totalling 180 fits\n",
      "best score:0.8234061432448291\n",
      "best hyperparameters:{'max_depth': 15, 'max_leaf_nodes': 200, 'n_estimators': 700}\n"
     ]
    }
   ],
   "source": [
    "model3 = RandomForestClassifier()\n",
    "param_grid3 = {\n",
    "    'n_estimators': [700, 1000,1500,2000],\n",
    "    'max_depth': [15,20,25],\n",
    "    'max_leaf_nodes': [50, 100, 200]\n",
    "}\n",
    "\n",
    "model3 = algorithm_pipeline(X_train_res, y_train_res, model3, param_grid3)\n",
    "\n",
    "print('best score:{}'.format(model3.best_score_))\n",
    "print('best hyperparameters:{}'.format(model3.best_params_))"
   ]
  },
  {
   "cell_type": "code",
   "execution_count": 45,
   "id": "greek-candle",
   "metadata": {},
   "outputs": [],
   "source": [
    "# select the best model\n",
    "rfmodel=model3.best_estimator_"
   ]
  },
  {
   "cell_type": "markdown",
   "id": "shared-adelaide",
   "metadata": {},
   "source": [
    "**Observation :** Relatively all models had a f1-score around 82 which can be considered a good score. However, to truly evaluate the generalization performance of thoses classifiers, we need to measure their performance against a data that doesn't contain synthetic data created using SMOTENC "
   ]
  },
  {
   "cell_type": "markdown",
   "id": "unknown-bones",
   "metadata": {},
   "source": [
    "# Testing"
   ]
  },
  {
   "cell_type": "code",
   "execution_count": 47,
   "id": "beneficial-twins",
   "metadata": {},
   "outputs": [],
   "source": [
    "# label encoding y_test/X_test\n",
    "for feature in catg:\n",
    "    X_test[feature] = l_encoder_X[feature].transform(X_test[feature])\n",
    "    \n",
    "X_test=X_test[X_train_res.columns]\n",
    "y_test = pd.Series(l_encoder_y.transform(y_test),index=X_test.index)"
   ]
  },
  {
   "cell_type": "code",
   "execution_count": 48,
   "id": "municipal-playing",
   "metadata": {},
   "outputs": [
    {
     "data": {
      "text/plain": [
       "0.6062111801242236"
      ]
     },
     "execution_count": 48,
     "metadata": {},
     "output_type": "execute_result"
    }
   ],
   "source": [
    "preds1 = xgbmodel.predict(X_test)\n",
    "f1_score(y_test, preds1)"
   ]
  },
  {
   "cell_type": "code",
   "execution_count": 49,
   "id": "deadly-judges",
   "metadata": {},
   "outputs": [
    {
     "data": {
      "text/plain": [
       "0.6120996441281139"
      ]
     },
     "execution_count": 49,
     "metadata": {},
     "output_type": "execute_result"
    }
   ],
   "source": [
    "preds2 = lgbmodel.predict(X_test)\n",
    "f1_score(y_test, preds2)"
   ]
  },
  {
   "cell_type": "code",
   "execution_count": 50,
   "id": "applicable-banana",
   "metadata": {},
   "outputs": [
    {
     "data": {
      "text/plain": [
       "0.6067961165048543"
      ]
     },
     "execution_count": 50,
     "metadata": {},
     "output_type": "execute_result"
    }
   ],
   "source": [
    "preds3 = rfmodel.predict(X_test)\n",
    "f1_score(y_test, preds3)"
   ]
  },
  {
   "cell_type": "markdown",
   "id": "varied-burning",
   "metadata": {},
   "source": [
    "**Conclusion :** the classifiers perform poorly on test data (f1-scores have dropped by 20%). the class imbalance as well as the train data size lead to poor results. I have tried to solve the problem by using cross-validation (use all the train data, see if there is any overfitting ...) and SMOTE ( oversampling : created new data for the minority class) but that doesn't improve as i want the performance of models. I also tried weight balancing (The idea is to weigh the loss computed for different samples differently based on whether they belong to the majority or the minority classes) but the result still the same.\n",
    "\n",
    "This project is an example of how data imbalance can affect the performance of models and how it is critical to assure that we have balanced data or at least enough data to cope with this problem. "
   ]
  },
  {
   "cell_type": "code",
   "execution_count": null,
   "id": "sound-small",
   "metadata": {},
   "outputs": [],
   "source": []
  },
  {
   "cell_type": "code",
   "execution_count": null,
   "id": "manufactured-novel",
   "metadata": {},
   "outputs": [],
   "source": []
  },
  {
   "cell_type": "code",
   "execution_count": null,
   "id": "meaningful-regression",
   "metadata": {},
   "outputs": [],
   "source": []
  },
  {
   "cell_type": "code",
   "execution_count": null,
   "id": "photographic-garbage",
   "metadata": {},
   "outputs": [],
   "source": []
  },
  {
   "cell_type": "code",
   "execution_count": null,
   "id": "integral-trouble",
   "metadata": {},
   "outputs": [],
   "source": []
  },
  {
   "cell_type": "code",
   "execution_count": null,
   "id": "assumed-agent",
   "metadata": {},
   "outputs": [],
   "source": []
  },
  {
   "cell_type": "code",
   "execution_count": null,
   "id": "registered-fraction",
   "metadata": {},
   "outputs": [],
   "source": []
  },
  {
   "cell_type": "code",
   "execution_count": null,
   "id": "dietary-pursuit",
   "metadata": {},
   "outputs": [],
   "source": []
  },
  {
   "cell_type": "code",
   "execution_count": null,
   "id": "industrial-delicious",
   "metadata": {},
   "outputs": [],
   "source": []
  }
 ],
 "metadata": {
  "kernelspec": {
   "display_name": "Python 3",
   "language": "python",
   "name": "python3"
  },
  "language_info": {
   "codemirror_mode": {
    "name": "ipython",
    "version": 3
   },
   "file_extension": ".py",
   "mimetype": "text/x-python",
   "name": "python",
   "nbconvert_exporter": "python",
   "pygments_lexer": "ipython3",
   "version": "3.8.5"
  }
 },
 "nbformat": 4,
 "nbformat_minor": 5
}
